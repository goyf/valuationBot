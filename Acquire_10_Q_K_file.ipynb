{
 "cells": [
  {
   "cell_type": "code",
   "execution_count": 81,
   "metadata": {},
   "outputs": [],
   "source": [
    "import requests\n",
    "from bs4 import BeautifulSoup\n",
    "import urllib"
   ]
  },
  {
   "cell_type": "code",
   "execution_count": 82,
   "metadata": {},
   "outputs": [
    {
     "name": "stdout",
     "output_type": "stream",
     "text": [
      "https://www.sec.gov/cgi-bin/browse-edgar?action=getcompany&CIK=AMZN&type=&dateb=&owner=exclude&start=0&count=100\n",
      "sup\n"
     ]
    }
   ],
   "source": [
    "#Get an HTML file of the EDGAR search to find 10-Q links\n",
    "\n",
    "results_per_page = 100 #10,20,40,80,100\n",
    "current_page = 0\n",
    "ticker = 'AMZN'\n",
    "gotLine = 0\n",
    "\n",
    "while(gotLine == 0):\n",
    "    url = 'https://www.sec.gov/cgi-bin/browse-edgar?action=getcompany&CIK=' + ticker + '&type=&dateb=&owner=exclude&start=' \\\n",
    "    + str(current_page*results_per_page) + '&count=' + str(results_per_page)\n",
    "    r = requests.get(url)    \n",
    "    \n",
    "    print(url)\n",
    "\n",
    "    html_content = r.text\n",
    "    soup = BeautifulSoup(html_content, 'lxml')\n",
    "\n",
    "    file = open(\"html.txt\", 'w')\n",
    "    file.write(html_content)\n",
    "    file = open('html.txt', 'r')\n",
    "\n",
    "    lookup = '10-Q'\n",
    "    for i, line in enumerate(file, 1):\n",
    "        if gotLine == 1:\n",
    "            searchLine = line\n",
    "            gotLine += 1\n",
    "            print (\"sup\")\n",
    "        if lookup in line:\n",
    "            foundLine = i + 1\n",
    "            gotLine += 1\n",
    "    \n",
    "    current_page +=1\n",
    "        "
   ]
  },
  {
   "cell_type": "code",
   "execution_count": 83,
   "metadata": {},
   "outputs": [
    {
     "name": "stdout",
     "output_type": "stream",
     "text": [
      "https://www.sec.gov/cgi-bin/viewer?action=view&cik=1018724&accession_number=0001018724-18-000108&xbrl_type=v\n"
     ]
    }
   ],
   "source": [
    "#Extracts a link for the 10-Q or K Interactive data\n",
    "\n",
    "soup = BeautifulSoup(searchLine, 'lxml')\n",
    "all_links = []\n",
    "#findA = soup.find_all('a')\n",
    "\n",
    "testFind = soup.find('a', {'id' : 'interactiveDataBtn'})\n",
    "#print(testFind['href'])\n",
    "#for link in findA:\n",
    "#            if '&nbsp;Documents' in link.text:\n",
    "#                all_links.append(link['href'])\n",
    "                \n",
    "#print(all_links)\n",
    "\n",
    "#Opens a 10-Q link and saves it\n",
    "\n",
    "url = 'https://www.sec.gov'\n",
    "url = url + testFind['href']\n",
    "r = requests.get(url)\n",
    "html_content = r.text\n",
    "\n",
    "print(url)\n",
    "\n",
    "soup = BeautifulSoup(html_content, 'lxml')\n",
    "\n",
    "file = open(\"html.txt\", 'w')\n",
    "file.write(html_content)\n",
    "file = open('html.txt', 'r')"
   ]
  },
  {
   "cell_type": "code",
   "execution_count": 98,
   "metadata": {},
   "outputs": [
    {
     "name": "stdout",
     "output_type": "stream",
     "text": [
      "['/Archives/edgar/data/1018724/000101872418000108/Financial_Report.xlsx']\n"
     ]
    }
   ],
   "source": [
    "soup = BeautifulSoup(html_content, 'lxml')\n",
    "all_links = []\n",
    "findA = soup.find_all('a')\n",
    "for link in findA:\n",
    "    if 'View Excel Document' in link.text:\n",
    "        all_links.append(link['href'])\n",
    "        \n",
    "print(all_links)"
   ]
  },
  {
   "cell_type": "code",
   "execution_count": 104,
   "metadata": {},
   "outputs": [
    {
     "name": "stdout",
     "output_type": "stream",
     "text": [
      "https://www.sec.gov/Archives/edgar/data/1018724/000101872418000108/Financial_Report.xlsx\n"
     ]
    },
    {
     "data": {
      "text/plain": [
       "('testName.xlsx', <httplib.HTTPMessage instance at 0x0000000008E8D6C8>)"
      ]
     },
     "execution_count": 104,
     "metadata": {},
     "output_type": "execute_result"
    }
   ],
   "source": [
    "url = 'https://www.sec.gov'\n",
    "url = url + all_links[0]\n",
    "print(url)\n",
    "urllib.urlretrieve(url, 'testName.xlsx')"
   ]
  },
  {
   "cell_type": "code",
   "execution_count": null,
   "metadata": {},
   "outputs": [],
   "source": []
  }
 ],
 "metadata": {
  "kernelspec": {
   "display_name": "Python 2",
   "language": "python",
   "name": "python2"
  },
  "language_info": {
   "codemirror_mode": {
    "name": "ipython",
    "version": 2
   },
   "file_extension": ".py",
   "mimetype": "text/x-python",
   "name": "python",
   "nbconvert_exporter": "python",
   "pygments_lexer": "ipython2",
   "version": "2.7.15"
  }
 },
 "nbformat": 4,
 "nbformat_minor": 2
}
