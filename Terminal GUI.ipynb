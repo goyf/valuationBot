{
 "cells": [
  {
   "cell_type": "code",
   "execution_count": 235,
   "metadata": {},
   "outputs": [],
   "source": [
    "from datapackage import Package\n",
    "from Tkinter import *\n",
    "from math import *\n",
    "package = Package('https://datahub.io/core/s-and-p-500-companies/datapackage.json')\n",
    "\n",
    "from alpha_vantage.timeseries import TimeSeries\n",
    "import matplotlib.pyplot as plt\n"
   ]
  },
  {
   "cell_type": "code",
   "execution_count": 236,
   "metadata": {},
   "outputs": [],
   "source": [
    "resources = package.resources\n",
    "for resource in resources:\n",
    "    if resource.tabular:\n",
    "        test = resource.read()"
   ]
  },
  {
   "cell_type": "code",
   "execution_count": 244,
   "metadata": {},
   "outputs": [],
   "source": [
    "def findComp(name):\n",
    "    found = False\n",
    "    company = \"\"\n",
    "    for x in test:\n",
    "        for y in x:\n",
    "            if y == name:\n",
    "                found = True\n",
    "                company = x[0] + \",\" + x[1] + \",\" + x[2]\n",
    "    if found == True:\n",
    "        return (company)\n",
    "    else:\n",
    "        return 'Could not find the company'\n",
    "\n",
    "class stockClass:\n",
    "    def __init__(self,  window):\n",
    "        self.window = window\n",
    "        self.box = Entry(root)\n",
    "        self.button = Button(window, text=\"Search\", command=self.plotGraph)\n",
    "        self.box.grid(row=0,column=1)\n",
    "        self.button.grid(row=0,column=2)\n",
    "        self.compName = \"\"\n",
    "        \n",
    "        \n",
    "    def getData():\n",
    "        ts = TimeSeries(key='Z4GYC8KFAQZCUZ51', output_format='pandas')\n",
    "        data, meta_data = ts.get_monthly(symbol='ABC')\n",
    "\n",
    "    def plotGraph():\n",
    "        \n",
    "        x=np.array(data['4. close'])\n",
    "        v= np.array (list(data.index))\n",
    "\n",
    "        fig = Figure(figsize=(6,6))\n",
    "        a = fig.add_subplot(111)\n",
    "        a.scatter(range(0,len(v)),x,color='red')\n",
    "\n",
    "        a.set_title (\"Estimation Grid\", fontsize=16)\n",
    "        a.set_ylabel(\"Y\", fontsize=14)\n",
    "        a.set_xlabel(\"X\", fontsize=14)\n",
    "\n",
    "        canvas = FigureCanvasTkAgg(fig, master=root)\n",
    "        canvas.get_tk_widget().grid(row=3,column=0, columnspan=2)\n",
    "        canvas.draw()"
   ]
  },
  {
   "cell_type": "code",
   "execution_count": 245,
   "metadata": {},
   "outputs": [],
   "source": [
    "comp_names = []\n",
    "\n",
    "for x in test:\n",
    "    comp_names.append(x[1])\n",
    "    \n",
    "#print(comp_names)"
   ]
  },
  {
   "cell_type": "code",
   "execution_count": 247,
   "metadata": {},
   "outputs": [],
   "source": [
    "def getComp(event):\n",
    "    res.configure(text = findComp(entry.get()))\n",
    "    \n",
    "def drawGraph(event):\n",
    "    myThing.compName = myThing.box.get()\n",
    "    myThing.getData\n",
    "    myThing.plotGraph\n",
    "    \n",
    "   \n",
    "root = Tk()\n",
    "root.minsize(100,100)\n",
    "#Label(w, text=\"Company ticker\").pack(side=TOP, fill=X)\n",
    "Label(root, text=\"Company ticker\", relief=FLAT,width=15).grid(row=0,column=0)\n",
    "myThing = stockClass(root)\n",
    "myThing.box.bind(\"<Return>\", drawGraph)\n",
    "#myThing.plotGraph\n",
    "res = Label(root, wraplength=200)\n",
    "res.grid(row=2, column=0, columnspan = 2)\n",
    "\n",
    "root.mainloop()\n",
    "#ts = TimeSeries(key='Z4GYC8KFAQZCUZ51', output_format='pandas')\n",
    "#data, meta_data = ts.get_monthly(symbol='TSLA')\n",
    "#data['4. close'].plot()\n",
    "#plt.title('Intraday Times Series for the MSFT stock (1 min)')\n",
    "#plt.show()\n"
   ]
  },
  {
   "cell_type": "code",
   "execution_count": 225,
   "metadata": {},
   "outputs": [],
   "source": [
    "#Create a Tkinter variable\n",
    "#tkvar = StringVar(root)\n",
    " \n",
    "# Dictionary with options\n",
    "#tkvar.set('Apple Inc.') # set the default option\n",
    " \n",
    "#popupMenu = OptionMenu(root, tkvar, *comp_names)\n",
    "#Label(root, text=\"Choose a company\").grid(row = 1, column = 0)\n",
    "#popupMenu.grid(row = 1, column =1)\n",
    " \n",
    "# on change dropdown value\n",
    "#def change_dropdown(*args):\n",
    "#    print( tkvar.get() )\n",
    " \n",
    "# link function to change dropdown\n",
    "#tkvar.trace('w', change_dropdown)"
   ]
  },
  {
   "cell_type": "code",
   "execution_count": 182,
   "metadata": {},
   "outputs": [],
   "source": []
  },
  {
   "cell_type": "code",
   "execution_count": null,
   "metadata": {},
   "outputs": [],
   "source": []
  }
 ],
 "metadata": {
  "kernelspec": {
   "display_name": "Python 2",
   "language": "python",
   "name": "python2"
  },
  "language_info": {
   "codemirror_mode": {
    "name": "ipython",
    "version": 2
   },
   "file_extension": ".py",
   "mimetype": "text/x-python",
   "name": "python",
   "nbconvert_exporter": "python",
   "pygments_lexer": "ipython2",
   "version": "2.7.15"
  }
 },
 "nbformat": 4,
 "nbformat_minor": 2
}
