{
 "cells": [
  {
   "cell_type": "code",
   "execution_count": 74,
   "metadata": {},
   "outputs": [],
   "source": [
    "from datapackage import Package\n",
    "from Tkinter import *\n",
    "from math import *\n",
    "\n",
    "from alpha_vantage.timeseries import TimeSeries\n",
    "\n",
    "import matplotlib\n",
    "import numpy as np\n",
    "from matplotlib.backends.backend_tkagg import FigureCanvasTkAgg\n",
    "from matplotlib.figure import Figure\n",
    "import matplotlib.pyplot\n",
    "from matplotlib.ticker import MaxNLocator\n",
    "\n",
    "package = Package('https://datahub.io/core/s-and-p-500-companies/datapackage.json')"
   ]
  },
  {
   "cell_type": "code",
   "execution_count": 79,
   "metadata": {},
   "outputs": [],
   "source": [
    "class stockClass:\n",
    "    def __init__(self,  window):\n",
    "        self.window = window\n",
    "        self.box = Entry(root)\n",
    "        self.button = Button(window, text=\"Search\", command=self.plotGraph)\n",
    "        self.box.grid(row=0,column=1)\n",
    "        self.button.grid(row=0,column=2)\n",
    "\n",
    "    def findComp(self, name): \n",
    "        resources = package.resources\n",
    "        for resource in resources:\n",
    "            if resource.tabular:\n",
    "                test = resource.read()\n",
    "            \n",
    "        found = False\n",
    "        company = \"\"\n",
    "        for x in test:\n",
    "            for y in x:\n",
    "                if y == name:\n",
    "                    found = True\n",
    "                    company = x[0] + \",\" + x[1] + \",\" + x[2]\n",
    "        if found == True:\n",
    "            return (company)\n",
    "        else:\n",
    "            return 'Could not find the company'    \n",
    "    \n",
    "    def plotGraph(self):\n",
    "        \n",
    "        comp_name = self.box.get()\n",
    "        \n",
    "        info_label = self.findComp(comp_name)      \n",
    "        \n",
    "        ts = TimeSeries(key='Z4GYC8KFAQZCUZ51', output_format='pandas')\n",
    "        data, meta_data = ts.get_monthly(symbol=comp_name)\n",
    "        x = np.array(data['4. close'])\n",
    "        v = np.array(list(data.index))\n",
    "        \n",
    "\n",
    "        fig = Figure(figsize=(6,6))\n",
    "        a = fig.add_subplot(111)\n",
    "        #a.plot(range(0,len(v)),x,color='red')\n",
    "        a.plot(v,x,color='red')\n",
    "\n",
    "        a.set_title (info_label, fontsize=16)\n",
    "        a.set_ylabel(\"Price\", fontsize=14)\n",
    "        a.set_xlabel(\"Date\", fontsize=14)\n",
    "        #a.locator_params(axis='x',numticks=4)\n",
    "        a.xaxis.set_major_locator(MaxNLocator(6))\n",
    "\n",
    "        canvas = FigureCanvasTkAgg(fig, master=root)\n",
    "        canvas.get_tk_widget().grid(row=3,column=0, columnspan=3)\n",
    "        canvas.draw()"
   ]
  },
  {
   "cell_type": "code",
   "execution_count": 80,
   "metadata": {},
   "outputs": [],
   "source": [
    "root = Tk()\n",
    "root.minsize(100,100)\n",
    "Label(root, text=\"Company ticker\", relief=FLAT,width=15).grid(row=0,column=0)\n",
    "myThing = stockClass(root)\n",
    "\n",
    "root.mainloop()\n"
   ]
  },
  {
   "cell_type": "code",
   "execution_count": null,
   "metadata": {},
   "outputs": [],
   "source": []
  }
 ],
 "metadata": {
  "kernelspec": {
   "display_name": "Python 2",
   "language": "python",
   "name": "python2"
  },
  "language_info": {
   "codemirror_mode": {
    "name": "ipython",
    "version": 2
   },
   "file_extension": ".py",
   "mimetype": "text/x-python",
   "name": "python",
   "nbconvert_exporter": "python",
   "pygments_lexer": "ipython2",
   "version": "2.7.15"
  }
 },
 "nbformat": 4,
 "nbformat_minor": 2
}
