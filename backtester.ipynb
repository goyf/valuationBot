{
 "cells": [
  {
   "cell_type": "code",
   "execution_count": 1,
   "metadata": {},
   "outputs": [],
   "source": [
    "from alpha_vantage.timeseries import TimeSeries #For stock timeseries data\n",
    "import math #for nan check\n",
    "import pandas as pd\n",
    "import numpy as np #for nan tests"
   ]
  },
  {
   "cell_type": "code",
   "execution_count": 148,
   "metadata": {},
   "outputs": [],
   "source": [
    "ts = TimeSeries(key='Z4GYC8KFAQZCUZ51', output_format='pandas')\n",
    "data, meta_data = ts.get_weekly_adjusted('brk.b')\n",
    "\n",
    "column = '5. adjusted close'"
   ]
  },
  {
   "cell_type": "code",
   "execution_count": 149,
   "metadata": {},
   "outputs": [],
   "source": [
    "short_mva = (data[column]['2003-01-01':]).rolling(window=20).mean()\n",
    "long_mva = (data[column]['2003-01-01':]).rolling(window=50).mean()"
   ]
  },
  {
   "cell_type": "code",
   "execution_count": 150,
   "metadata": {},
   "outputs": [],
   "source": [
    "#Finds and drops all nan values and makes sure the series are of equal length\n",
    "index = 0\n",
    "while(index < len(short_mva)):\n",
    "    if(math.isnan(short_mva[index]) == True or math.isnan(long_mva[index]) == True):\n",
    "        short_mva = short_mva.drop([short_mva.index[0]])\n",
    "        long_mva = long_mva.drop([long_mva.index[0]])\n",
    "    index = index + 1"
   ]
  },
  {
   "cell_type": "code",
   "execution_count": 151,
   "metadata": {},
   "outputs": [
    {
     "name": "stdout",
     "output_type": "stream",
     "text": [
      "Buying in 2003-12-05 at 56.0\n",
      "Selling in 2008-09-19 at 91.9\n",
      "Buying in 2009-09-25 at 65.36\n",
      "Selling in 2015-07-10 at 139.73\n",
      "Buying in 2016-05-06 at 144.62\n",
      "Selling in 2018-12-21 at 192.1\n"
     ]
    }
   ],
   "source": [
    "index = 0\n",
    "buying = 0\n",
    "selling = 1\n",
    "initial = 10000\n",
    "number_of_stocks = 0\n",
    "final = 0\n",
    "last_buy = 0\n",
    "while(index < len(short_mva)):    \n",
    "    #SELLING\n",
    "    #1.5 is magic number and is used to avoid buying at e.g. 50 and selling at 50.1\n",
    "    #Is it good to have this stop? Should I just not include crisis data?\n",
    "    #What if I had a much larger filter?\n",
    "    if(buying and short_mva[index] < long_mva[index] and data[column].get(short_mva.index[index-1]) > last_buy*1.5):\n",
    "        selling = 1\n",
    "        buying = 0      \n",
    "        print \"Selling in \" + str(short_mva.index[index-1]) +  \" at \" + str(data[column].get(short_mva.index[index-1]))\n",
    "        final += number_of_stocks*data[column].get(short_mva.index[index-1])\n",
    "        #print str(final) + \", \" + str(data[column].get(short_mva.index[index-1])) + \", \" + str(number_of_stocks)\n",
    "        number_of_stocks = 0\n",
    "       \n",
    "    #BUYING\n",
    "    elif(selling and short_mva[index] > long_mva[index]):\n",
    "        selling = 0\n",
    "        buying = 1\n",
    "        number_of_stocks = int(initial/data[column].get(short_mva.index[index-1]))\n",
    "        final -= initial\n",
    "        #print str(final) + \", \" + str(data[column].get(short_mva.index[index-1])) + \", \" + str(number_of_stocks)\n",
    "        print \"Buying in \" + str(short_mva.index[index-1] ) +  \" at \" + str(data[column].get(short_mva.index[index-1]))\n",
    "        last_buy = data[column].get(short_mva.index[index-1])\n",
    "        \n",
    "    #Closing the position\n",
    "    if(index == len(short_mva) - 1 and number_of_stocks != 0):\n",
    "        print \"Selling in \" + str(short_mva.index[index-1] ) +  \" at \" + str(data[column].get(short_mva.index[index-1]))\n",
    "        final += number_of_stocks*data[column].get(short_mva.index[index-1])\n",
    "        \n",
    "    index = index + 1"
   ]
  },
  {
   "cell_type": "code",
   "execution_count": 152,
   "metadata": {},
   "outputs": [
    {
     "data": {
      "text/plain": [
       "20852.059999999998"
      ]
     },
     "execution_count": 152,
     "metadata": {},
     "output_type": "execute_result"
    }
   ],
   "source": [
    "final"
   ]
  },
  {
   "cell_type": "code",
   "execution_count": 153,
   "metadata": {},
   "outputs": [
    {
     "data": {
      "text/plain": [
       "<matplotlib.axes._subplots.AxesSubplot at 0xf263940>"
      ]
     },
     "execution_count": 153,
     "metadata": {},
     "output_type": "execute_result"
    },
    {
     "data": {
      "image/png": "[encoded data removed]",
      "text/plain": [
       "<Figure size 432x288 with 1 Axes>"
      ]
     },
     "metadata": {
      "needs_background": "light"
     },
     "output_type": "display_data"
    }
   ],
   "source": [
    "data[column]['2003-01-01':].plot()\n",
    "short_mva.plot()\n",
    "long_mva.plot()"
   ]
  },
  {
   "cell_type": "code",
   "execution_count": null,
   "metadata": {},
   "outputs": [],
   "source": []
  }
 ],
 "metadata": {
  "kernelspec": {
   "display_name": "Python 2",
   "language": "python",
   "name": "python2"
  },
  "language_info": {
   "codemirror_mode": {
    "name": "ipython",
    "version": 2
   },
   "file_extension": ".py",
   "mimetype": "text/x-python",
   "name": "python",
   "nbconvert_exporter": "python",
   "pygments_lexer": "ipython2",
   "version": "2.7.15"
  }
 },
 "nbformat": 4,
 "nbformat_minor": 2
}
