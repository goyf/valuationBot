{
 "cells": [
  {
   "cell_type": "code",
   "execution_count": 1,
   "metadata": {},
   "outputs": [],
   "source": [
    "from datapackage import Package\n",
    "from Tkinter import *\n",
    "from math import *\n",
    "package = Package('https://datahub.io/core/s-and-p-500-companies/datapackage.json')"
   ]
  },
  {
   "cell_type": "code",
   "execution_count": 2,
   "metadata": {},
   "outputs": [],
   "source": [
    "resources = package.resources\n",
    "for resource in resources:\n",
    "    if resource.tabular:\n",
    "        test = resource.read()"
   ]
  },
  {
   "cell_type": "code",
   "execution_count": 3,
   "metadata": {},
   "outputs": [],
   "source": [
    "def findComp(name):\n",
    "    found = False\n",
    "    company = \"\"\n",
    "    for x in test:\n",
    "        for y in x:\n",
    "            if y == name:\n",
    "                found = True\n",
    "                company = x[0] + \",\" + x[1] + \",\" + x[2]\n",
    "    if found == True:\n",
    "        return (company)\n",
    "    else:\n",
    "        return 'Could not find the company'\n",
    "        "
   ]
  },
  {
   "cell_type": "code",
   "execution_count": null,
   "metadata": {},
   "outputs": [],
   "source": [
    "def evaluate(event):\n",
    "    res.configure(text = findComp(entry.get()))\n",
    "w = Tk()\n",
    "Label(w, text=\"Company ticker\").pack(side=TOP, fill=X)\n",
    "entry = Entry(w)\n",
    "entry.bind(\"<Return>\", evaluate)\n",
    "entry.pack()#grid(row=0, column=0)\n",
    "res = Label(w)\n",
    "res.pack()\n",
    "w.mainloop()"
   ]
  },
  {
   "cell_type": "code",
   "execution_count": 8,
   "metadata": {},
   "outputs": [],
   "source": [
    "colours = ['red','green','orange','white','yellow','blue']\n",
    "\n",
    "#r = 0\n",
    "#for c in colours:\n",
    "#    Label(text=c, relief=RIDGE,width=15).grid(row=r,column=0)\n",
    "#    Entry(bg=c, relief=SUNKEN,width=10).grid(row=r,column=1)\n",
    "#    r = r + 1\n",
    "\n",
    "Label(text='red', relief=RIDGE,width=15).grid(row=r,column=0)\n",
    "Entry(bg='red', relief=SUNKEN,width=10).grid(row=r,column=1)    \n",
    "    \n",
    "mainloop()"
   ]
  },
  {
   "cell_type": "code",
   "execution_count": null,
   "metadata": {},
   "outputs": [],
   "source": []
  }
 ],
 "metadata": {
  "kernelspec": {
   "display_name": "Python 2",
   "language": "python",
   "name": "python2"
  },
  "language_info": {
   "codemirror_mode": {
    "name": "ipython",
    "version": 2
   },
   "file_extension": ".py",
   "mimetype": "text/x-python",
   "name": "python",
   "nbconvert_exporter": "python",
   "pygments_lexer": "ipython2",
   "version": "2.7.15"
  }
 },
 "nbformat": 4,
 "nbformat_minor": 2
}
