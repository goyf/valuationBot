{
 "cells": [
  {
   "cell_type": "code",
   "execution_count": 8,
   "metadata": {},
   "outputs": [],
   "source": [
    "import requests\n",
    "from bs4 import BeautifulSoup\n",
    "import urllib\n",
    "import xlrd"
   ]
  },
  {
   "cell_type": "code",
   "execution_count": 15,
   "metadata": {},
   "outputs": [
    {
     "name": "stdout",
     "output_type": "stream",
     "text": [
      "https://www.sec.gov/cgi-bin/browse-edgar?action=getcompany&CIK=AAPL&type=&dateb=&owner=exclude&start=0&count=100\n",
      "sup\n"
     ]
    }
   ],
   "source": [
    "#Get an HTML file of the EDGAR search to find 10-Q links\n",
    "\n",
    "results_per_page = 100 #10,20,40,80,100\n",
    "current_page = 0\n",
    "ticker = 'AAPL'\n",
    "gotLine = 0\n",
    "\n",
    "while(gotLine == 0):\n",
    "    url = 'https://www.sec.gov/cgi-bin/browse-edgar?action=getcompany&CIK=' + ticker + '&type=&dateb=&owner=exclude&start=' \\\n",
    "    + str(current_page*results_per_page) + '&count=' + str(results_per_page)\n",
    "    r = requests.get(url)    \n",
    "    \n",
    "    print(url)\n",
    "\n",
    "    html_content = r.text\n",
    "    soup = BeautifulSoup(html_content, 'lxml')\n",
    "\n",
    "    file = open(\"html.txt\", 'w')\n",
    "    file.write(html_content)\n",
    "    file = open('html.txt', 'r')\n",
    "\n",
    "    lookup = '10-Q'\n",
    "    for i, line in enumerate(file, 1):\n",
    "        if gotLine == 1:\n",
    "            searchLine = line\n",
    "            gotLine += 1\n",
    "            print (\"sup\")\n",
    "        if lookup in line:\n",
    "            foundLine = i + 1\n",
    "            gotLine += 1\n",
    "    \n",
    "    current_page +=1\n",
    "        "
   ]
  },
  {
   "cell_type": "code",
   "execution_count": 16,
   "metadata": {},
   "outputs": [
    {
     "name": "stdout",
     "output_type": "stream",
     "text": [
      "https://www.sec.gov/cgi-bin/viewer?action=view&cik=320193&accession_number=0000320193-18-000100&xbrl_type=v\n"
     ]
    }
   ],
   "source": [
    "#Extracts a link for the 10-Q or K Interactive data\n",
    "\n",
    "soup = BeautifulSoup(searchLine, 'lxml')\n",
    "all_links = []\n",
    "#findA = soup.find_all('a')\n",
    "\n",
    "testFind = soup.find('a', {'id' : 'interactiveDataBtn'})\n",
    "#print(testFind['href'])\n",
    "#for link in findA:\n",
    "#            if '&nbsp;Documents' in link.text:\n",
    "#                all_links.append(link['href'])\n",
    "                \n",
    "#print(all_links)\n",
    "\n",
    "#Opens a 10-Q link and saves it\n",
    "\n",
    "url = 'https://www.sec.gov'\n",
    "url = url + testFind['href']\n",
    "r = requests.get(url)\n",
    "html_content = r.text\n",
    "\n",
    "print(url)\n",
    "\n",
    "soup = BeautifulSoup(html_content, 'lxml')\n",
    "\n",
    "file = open(\"html.txt\", 'w')\n",
    "file.write(html_content)\n",
    "file = open('html.txt', 'r')"
   ]
  },
  {
   "cell_type": "code",
   "execution_count": 17,
   "metadata": {},
   "outputs": [
    {
     "name": "stdout",
     "output_type": "stream",
     "text": [
      "['/Archives/edgar/data/320193/000032019318000100/Financial_Report.xlsx']\n"
     ]
    }
   ],
   "source": [
    "#Finds the Excel file and downloads it\n",
    "\n",
    "soup = BeautifulSoup(html_content, 'lxml')\n",
    "all_links = []\n",
    "findA = soup.find_all('a')\n",
    "for link in findA:\n",
    "    if 'View Excel Document' in link.text:\n",
    "        all_links.append(link['href'])\n",
    "\n",
    "url = 'https://www.sec.gov'\n",
    "url = url + all_links[0]\n",
    "print(url)\n",
    "urllib.urlretrieve(url, '10Q'+ticker+'.xlsx')"
   ]
  },
  {
   "cell_type": "code",
   "execution_count": null,
   "metadata": {},
   "outputs": [],
   "source": []
  }
 ],
 "metadata": {
  "kernelspec": {
   "display_name": "Python 2",
   "language": "python",
   "name": "python2"
  },
  "language_info": {
   "codemirror_mode": {
    "name": "ipython",
    "version": 2
   },
   "file_extension": ".py",
   "mimetype": "text/x-python",
   "name": "python",
   "nbconvert_exporter": "python",
   "pygments_lexer": "ipython2",
   "version": "2.7.15"
  }
 },
 "nbformat": 4,
 "nbformat_minor": 2
}
